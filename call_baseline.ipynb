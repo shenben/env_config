{
 "cells": [
  {
   "cell_type": "code",
   "execution_count": 35,
   "metadata": {},
   "outputs": [],
   "source": [
    "# !sudo docker run -p 8080:8080 -v /tmp:/tmp --device /dev/dri intel/video-analytics-serving"
   ]
  },
  {
   "cell_type": "markdown",
   "metadata": {},
   "source": [
    "Run the server first:\n",
    "```\n",
    "sudo docker run -u root -p 8080:8080 -it --device /dev/dri --privileged -v /opt/intel/openvino_2021.4/deployment_tools/open_model_zoo/tools/downloader/:/home/dlstreamer/intel/dl_streamer/models -v /tmp/:/tmp/ -e DISPLAY=:0 --rm intel/dlstreamer-pipeline-server:2022.2.0-ubuntu20\n",
    "```"
   ]
  },
  {
   "cell_type": "code",
   "execution_count": 36,
   "metadata": {},
   "outputs": [
    {
     "name": "stdout",
     "output_type": "stream",
     "text": [
      "fatal: destination path '/tmp/sample-videos' already exists and is not an empty directory.\n"
     ]
    }
   ],
   "source": [
    "!git clone https://github.com/intel-iot-devkit/sample-videos.git  /tmp/sample-videos"
   ]
  },
  {
   "cell_type": "code",
   "execution_count": 37,
   "metadata": {},
   "outputs": [
    {
     "name": "stdout",
     "output_type": "stream",
     "text": [
      "{'source': {'uri': 'file:///tmp/sample-videos/classroom.mp4', 'type': 'uri'}, 'destination': {'metadata': {'type': 'file', 'path': '/tmp/classroom_zRf4uomN.log', 'format': 'json-lines'}}}\n",
      "Status Code: 200\n",
      "Response Body: \"3a7587ce8dc611efb8fb0242ac110002\"\n",
      "\n"
     ]
    }
   ],
   "source": [
    "#concurrency test\n",
    "import os, time\n",
    "import requests\n",
    "import json,ast\n",
    "import random,string\n",
    "req_di={}\n",
    "def check_res(url=None,info=False):\n",
    "    if url is None:\n",
    "        return\n",
    "    payload = {}\n",
    "    headers = {\n",
    "        'Content-Type': 'application/json'\n",
    "    }\n",
    "    # print(payload)\n",
    "    # response = requests.post(url, headers=headers, data=json.dumps(payload))\n",
    "    response = requests.get(url, headers=headers, json=payload)\n",
    "    if info:\n",
    "        print(\"Status Code:\", response.status_code)\n",
    "        print(\"Response Body:\", response.text)\n",
    "    res=ast.literal_eval(response.text)\n",
    "    return res[\"elapsed_time\"] if res[\"state\"]==\"COMPLETED\" else None\n",
    "\n",
    "def req_va(video_path, result_path=None, fun_url=\"http://localhost:8080/pipelines/object_detection/person_vehicle_bike\"):\n",
    "    url = fun_url\n",
    "\n",
    "    payload = {\n",
    "        \"source\": {\n",
    "            \"uri\": \"file:///tmp/traffic.mp4\",\n",
    "            \"type\": \"uri\"\n",
    "        },\n",
    "        \"destination\": {\n",
    "            \"metadata\": {\n",
    "                \"type\": \"file\",\n",
    "                \"path\": \"/tmp/results2.txt\",\n",
    "                \"format\": \"json-lines\"\n",
    "            }\n",
    "        }\n",
    "    }\n",
    "    payload[\"source\"][\"uri\"]=\"file://\"+video_path\n",
    "    if result_path is None:\n",
    "        # result_path=\"/tmp/\"+video_path.split(\"/\")[-1].replace(\".mp4\",\".log\")\n",
    "        hash_string = ''.join(random.choices(string.ascii_letters + string.digits, k=8))\n",
    "        result_path=\"/tmp/\"+video_path.split(\"/\")[-1].replace(\".mp4\",\"\")\n",
    "        result_path=result_path+\"_\"+hash_string+\".log\"\n",
    "    payload[\"destination\"][\"metadata\"][\"path\"]=result_path\n",
    "    headers = {\n",
    "        'Content-Type': 'application/json'\n",
    "    }\n",
    "    print(payload)\n",
    "    # response = requests.post(url, headers=headers, data=json.dumps(payload))\n",
    "    response = requests.post(url, headers=headers, json=payload)\n",
    "\n",
    "    print(\"Status Code:\", response.status_code)\n",
    "    print(\"Response Body:\", response.text)\n",
    "    return response.text\n",
    "\n",
    "# videos=['one-by-one-person-detection.mp4', 'store-aisle-detection.mp4', 'people-detection.mp4', 'bottle-detection.mp4', 'driver-action-recognition.mp4', 'head-pose-face-detection-male.mp4', 'head-pose-face-detection-female.mp4', 'car-detection.mp4', 'face-demographics-walking-and-pause.mp4', 'worker-zone-detection.mp4', 'bolt-multi-size-detection.mp4', 'bolt-detection.mp4', 'head-pose-face-detection-female-and-male.mp4', 'classroom.mp4', 'person-bicycle-car-detection.mp4', 'face-demographics-walking.mp4', 'fruit-and-vegetable-detection.mp4']\n",
    "int_key=['0-F3q8Aj9Zk', '01_BrVxYsE0', '0-CYG7bH54A', '0B4T3GIkMZw', '0CZuZZ17mck', '08uNrWxxHGY', '0KqeKi2CBqg', '06ofnvq2Hjs', '0O589B9zr84', 'classroom', '0Qed9-9yp9Q', 'bottle-detection', '0DsdxtAvHDk', '04LdesS7Pxk', '0EepbsAtiDk', '0IFJNGqjsUQ', '0FTaJwbFdZI']\n",
    "final_ans={}\n",
    "cnt1=0\n",
    "ha_ids=[]\n",
    "# invoke\n",
    "for con in range(1):\n",
    "    for vi in [\"classroom\"]:\n",
    "    # for vi in int_key:\n",
    "        if vi == \"bottle-detection\" or vi == \"classroom\":\n",
    "            vi_p=os.path.join(\"/tmp/sample-videos/\",f\"{vi}.mp4\")\n",
    "        else:\n",
    "            vi_p=os.path.join(\"/tmp/ActivityNet/\",f\"{vi}.mp4\")\n",
    "        if not os.path.exists(vi_p):\n",
    "            continue\n",
    "        # print(vi_p)\n",
    "        ha_id=req_va(vi_p)\n",
    "        ha_id=ha_id.strip().replace('\"','')\n",
    "        ha_ids.append(ha_id)\n",
    "        # req_di[ha_id]=vi\n",
    "\n",
    "        # while(True):\n",
    "        #     time.sleep(5)\n",
    "        #     name=\"object_detection\"\n",
    "        #     version=\"person_vehicle_bike\"\n",
    "        #         # instance_id=\"f8dbf95e87d211efaf7c0242ac110002\"\n",
    "        #     url=f\"http://localhost:8080/pipelines/{name}/{version}/{ha_id}/status\"\n",
    "        #         # GET /pipelines/{name}/{version}/{instance_id}\n",
    "        #     e2e_tim=check_res(url)\n",
    "        #     if e2e_tim is not None:\n",
    "        #         final_ans[vi]=e2e_tim\n",
    "        #         break\n",
    "        # if cnt1 >=3:\n",
    "        #     break\n",
    "        # cnt1+=1\n",
    "    \n",
    "# print(req_di)\n",
    "# print(final_ans)\n"
   ]
  },
  {
   "cell_type": "code",
   "execution_count": 38,
   "metadata": {},
   "outputs": [
    {
     "data": {
      "text/plain": [
       "1"
      ]
     },
     "execution_count": 38,
     "metadata": {},
     "output_type": "execute_result"
    }
   ],
   "source": [
    "len(ha_ids)"
   ]
  },
  {
   "cell_type": "code",
   "execution_count": 39,
   "metadata": {},
   "outputs": [],
   "source": [
    "\n",
    "res0={}\n",
    "cout=0\n",
    "while(True):\n",
    "    time.sleep(5)\n",
    "    name=\"object_detection\"\n",
    "    version=\"person_vehicle_bike\"\n",
    "    flag=1\n",
    "    for id0 in ha_ids:\n",
    "        url=f\"http://localhost:8080/pipelines/{name}/{version}/{id0}/status\"\n",
    "            # GET /pipelines/{name}/{version}/{instance_id}\n",
    "        e2e_tim=check_res(url)\n",
    "        if e2e_tim is not None:\n",
    "            # cout+=1\n",
    "            # print(cout,e2e_tim)\n",
    "            res0[id0]=e2e_tim\n",
    "            # break\n",
    "        else:\n",
    "            flag=0\n",
    "            time.sleep(5)\n",
    "    if flag==1:\n",
    "        break\n",
    "    # break\n"
   ]
  },
  {
   "cell_type": "code",
   "execution_count": 40,
   "metadata": {},
   "outputs": [
    {
     "name": "stdout",
     "output_type": "stream",
     "text": [
      "dict_values([8.67960262298584])\n"
     ]
    }
   ],
   "source": [
    "print(res0.values())\n",
    "# for k,v in res0.items():\n",
    "#     if v < 1:\n",
    "#         print(k)"
   ]
  },
  {
   "cell_type": "code",
   "execution_count": 41,
   "metadata": {},
   "outputs": [],
   "source": [
    "dlstreamer_10g=[56.1298394203186, 59.87207388877869, 62.47958445549011, 64.35585594177246, 63.425336837768555, 61.63944053649902, 59.30074977874756, 56.61838889122009, 64.00640034675598, 64.16362142562866]\n",
    "dlstreamer_20g=[55.86392283439636, 59.98772478103638, 62.54295301437378, 64.30032801628113, 64.48698616027832, 63.35225033760071, 61.72321677207947, 59.31234407424927, 64.60616064071655, 56.36464548110962]\n",
    "\n",
    "dlstreamer_5g=[54.22969436645508, 60.5618691444397, 58.04087805747986, 62.640612840652466, 63.37082290649414, 63.069164752960205, 62.3219735622406, 58.999905824661255, 53.91446542739868, 48.695799827575684]\n",
    "dlstreamer_5g_2=[59.5600323677063, 55.708837032318115, 62.46635413169861, 63.734591007232666, 64.43418025970459, 64.30828595161438, 63.586267709732056, 55.384522914886475, 50.25426244735718, 60.146037340164185]\n",
    "\n",
    "dlstreamer_4g=[48.91807723045349, 55.905741453170776, 66.96529579162598, 58.6130154132843, 60.62659287452698, 64.59975075721741, 60.08772563934326, 49.35785102844238, 62.87034201622009, 56.58643865585327]\n",
    "dlstreamer_3_5g=[491.1393151283264, 495.68970370292664, 497.9567837715149, 498.33028769493103, 497.72154426574707, 496.80108094215393, 497.17349076271057, 495.45061683654785, 492.51891040802, 490.43295097351074]\n",
    "\n",
    "# 3g OOM\n",
    "\n",
    "g8i_10g=[81.73466849327087, 80.46101236343384, 78.59616279602051, 71.08804631233215, 76.70246911048889, 79.98972177505493, 81.74080967903137, 82.50462079048157, 82.59852933883667, 75.76524782180786]\n",
    "g8i_40g=[70.27128529548645, 81.46059203147888, 81.33707571029663, 78.10851073265076, 75.33292984962463, 76.45837473869324, 79.41021847724915, 82.31308364868164, 82.20492434501648, 79.98784732818604]\n",
    "g8i_8g=[81.98658442497253, 79.84051990509033, 75.1294813156128, 76.1957643032074, 70.47364950180054, 79.59478688240051, 81.46420669555664, 82.04936051368713, 81.16118693351746, 77.7790298461914]\n",
    "g8i_5g_5=[41.42081689834595, 41.15780568122864, 39.02669072151184, 41.0284526348114, 40.504769802093506]\n",
    "g8i_5g_10=[71.16168642044067, 82.55540823936462, 81.93622303009033, 78.35867643356323, 75.65382075309753, 77.00379633903503, 80.1970841884613, 82.00364947319031, 82.53348779678345, 80.40122318267822]\n",
    "g8i_5g_3=[24.01544451713562, 24.362300872802734, 24.523056507110596]\n",
    "g8i_5g_1=[8.67960262298584]\n"
   ]
  },
  {
   "cell_type": "code",
   "execution_count": 42,
   "metadata": {},
   "outputs": [],
   "source": [
    "# id0=\"83c8013e8a0811efab3d0242ac110002\"\n",
    "# url=f\"http://localhost:8080/pipelines/{name}/{version}/{id0}/status\"\n",
    "#             # GET /pipelines/{name}/{version}/{instance_id}\n",
    "# e2e_tim=check_res(url,True)\n"
   ]
  }
 ],
 "metadata": {
  "kernelspec": {
   "display_name": "Python 3",
   "language": "python",
   "name": "python3"
  },
  "language_info": {
   "codemirror_mode": {
    "name": "ipython",
    "version": 3
   },
   "file_extension": ".py",
   "mimetype": "text/x-python",
   "name": "python",
   "nbconvert_exporter": "python",
   "pygments_lexer": "ipython3",
   "version": "3.10.12"
  }
 },
 "nbformat": 4,
 "nbformat_minor": 2
}
